{
 "cells": [
  {
   "cell_type": "code",
   "execution_count": null,
   "id": "0e17fa60-5ff9-4329-b36c-36b845e12a86",
   "metadata": {},
   "outputs": [],
   "source": [
    "encode\n",
    "\n",
    "title\n",
    "certificate\n",
    "genre\n",
    "content4\n",
    "content6\n",
    "\n",
    "clean / convert \n",
    "votes to int"
   ]
  },
  {
   "cell_type": "code",
   "execution_count": null,
   "id": "551cc818-7fa1-41ce-966f-fd8302329365",
   "metadata": {},
   "outputs": [],
   "source": [
    "scale the data after train test split\n",
    "\n",
    "then push it to model"
   ]
  }
 ],
 "metadata": {
  "kernelspec": {
   "display_name": "Python [conda env:base] *",
   "language": "python",
   "name": "conda-base-py"
  },
  "language_info": {
   "codemirror_mode": {
    "name": "ipython",
    "version": 3
   },
   "file_extension": ".py",
   "mimetype": "text/x-python",
   "name": "python",
   "nbconvert_exporter": "python",
   "pygments_lexer": "ipython3",
   "version": "3.12.7"
  }
 },
 "nbformat": 4,
 "nbformat_minor": 5
}
